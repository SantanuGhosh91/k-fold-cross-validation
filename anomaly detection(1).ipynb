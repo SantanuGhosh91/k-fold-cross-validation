{
 "cells": [
  {
   "cell_type": "code",
   "execution_count": 1,
   "metadata": {
    "colab": {
     "base_uri": "https://localhost:8080/"
    },
    "id": "qF4y4ej48w1-",
    "outputId": "f29d67a4-957b-4829-df42-2a340bc9aea9"
   },
   "outputs": [
    {
     "name": "stdout",
     "output_type": "stream",
     "text": [
      "Requirement already satisfied: xgboost in /usr/local/lib/python3.7/dist-packages (0.90)\n",
      "Requirement already satisfied: scipy in /usr/local/lib/python3.7/dist-packages (from xgboost) (1.4.1)\n",
      "Requirement already satisfied: numpy in /usr/local/lib/python3.7/dist-packages (from xgboost) (1.19.5)\n"
     ]
    }
   ],
   "source": [
    "!pip install xgboost"
   ]
  },
  {
   "cell_type": "code",
   "execution_count": 3,
   "metadata": {
    "id": "RDsK2BtN8-we"
   },
   "outputs": [],
   "source": [
    "import xgboost as xgb\n",
    "import numpy as np\n",
    "from collections import OrderedDict\n",
    "import gc\n",
    "from glob import glob\n",
    "import os\n",
    "import pandas as pd\n",
    "from copy import copy\n",
    "from time import time\n",
    "from sklearn.metrics import roc_auc_score,confusion_matrix,accuracy_score,classification_report,roc_curve\n",
    "from sklearn.model_selection import train_test_split\n",
    "from sklearn.preprocessing import LabelEncoder\n",
    "from timeit import default_timer\n",
    "import matplotlib.pyplot as plt\n",
    "import pickle"
   ]
  },
  {
   "cell_type": "code",
   "execution_count": 4,
   "metadata": {
    "id": "Gvq24Vhh9B1N"
   },
   "outputs": [],
   "source": [
    "np.random.seed(123)"
   ]
  },
  {
   "cell_type": "code",
   "execution_count": 6,
   "metadata": {
    "id": "sP3ThHMr9MFn"
   },
   "outputs": [],
   "source": [
    "data=pd.read_csv('/content/Test_Dataset_FVPL.csv')"
   ]
  },
  {
   "cell_type": "code",
   "execution_count": 12,
   "metadata": {
    "colab": {
     "base_uri": "https://localhost:8080/"
    },
    "id": "99G85vdHG-0f",
    "outputId": "d6605837-9b1d-48ee-d3b7-11dd7c33ef04"
   },
   "outputs": [
    {
     "name": "stdout",
     "output_type": "stream",
     "text": [
      "<class 'pandas.core.frame.DataFrame'>\n",
      "RangeIndex: 2505 entries, 0 to 2504\n",
      "Data columns (total 15 columns):\n",
      " #   Column                  Non-Null Count  Dtype  \n",
      "---  ------                  --------------  -----  \n",
      " 0   timeindex               2505 non-null   int64  \n",
      " 1   currentBack             2505 non-null   float64\n",
      " 2   motorTempBack           2505 non-null   int64  \n",
      " 3   positionBack            2505 non-null   float64\n",
      " 4   refPositionBack         2505 non-null   float64\n",
      " 5   refVelocityBack         2505 non-null   float64\n",
      " 6   trackingDeviationBack   2505 non-null   float64\n",
      " 7   velocityBack            2505 non-null   float64\n",
      " 8   currentFront            2505 non-null   float64\n",
      " 9   motorTempFront          2505 non-null   int64  \n",
      " 10  positionFront           2505 non-null   float64\n",
      " 11  refPositionFront        2505 non-null   float64\n",
      " 12  refVelocityFront        2505 non-null   float64\n",
      " 13  trackingDeviationFront  2505 non-null   float64\n",
      " 14  velocityFront           2505 non-null   float64\n",
      "dtypes: float64(12), int64(3)\n",
      "memory usage: 293.7 KB\n"
     ]
    }
   ],
   "source": [
    "data.info()"
   ]
  },
  {
   "cell_type": "code",
   "execution_count": 11,
   "metadata": {
    "colab": {
     "base_uri": "https://localhost:8080/"
    },
    "id": "htmK9t3MG4Bg",
    "outputId": "f14bd224-f001-43d0-9390-0f61888caf31"
   },
   "outputs": [
    {
     "data": {
      "text/plain": [
       "timeindex                 0\n",
       "currentBack               0\n",
       "motorTempBack             0\n",
       "positionBack              0\n",
       "refPositionBack           0\n",
       "refVelocityBack           0\n",
       "trackingDeviationBack     0\n",
       "velocityBack              0\n",
       "currentFront              0\n",
       "motorTempFront            0\n",
       "positionFront             0\n",
       "refPositionFront          0\n",
       "refVelocityFront          0\n",
       "trackingDeviationFront    0\n",
       "velocityFront             0\n",
       "dtype: int64"
      ]
     },
     "execution_count": 11,
     "metadata": {
      "tags": []
     },
     "output_type": "execute_result"
    }
   ],
   "source": [
    "data.isnull().sum()"
   ]
  },
  {
   "cell_type": "code",
   "execution_count": 7,
   "metadata": {
    "colab": {
     "base_uri": "https://localhost:8080/",
     "height": 439
    },
    "id": "aPihkSXiBm-8",
    "outputId": "706a8139-79c4-456b-e2e7-a65c69ef561f"
   },
   "outputs": [
    {
     "data": {
      "text/html": [
       "<div>\n",
       "<style scoped>\n",
       "    .dataframe tbody tr th:only-of-type {\n",
       "        vertical-align: middle;\n",
       "    }\n",
       "\n",
       "    .dataframe tbody tr th {\n",
       "        vertical-align: top;\n",
       "    }\n",
       "\n",
       "    .dataframe thead th {\n",
       "        text-align: right;\n",
       "    }\n",
       "</style>\n",
       "<table border=\"1\" class=\"dataframe\">\n",
       "  <thead>\n",
       "    <tr style=\"text-align: right;\">\n",
       "      <th></th>\n",
       "      <th>timeindex</th>\n",
       "      <th>currentBack</th>\n",
       "      <th>motorTempBack</th>\n",
       "      <th>positionBack</th>\n",
       "      <th>refPositionBack</th>\n",
       "      <th>refVelocityBack</th>\n",
       "      <th>trackingDeviationBack</th>\n",
       "      <th>velocityBack</th>\n",
       "      <th>currentFront</th>\n",
       "      <th>motorTempFront</th>\n",
       "      <th>positionFront</th>\n",
       "      <th>refPositionFront</th>\n",
       "      <th>refVelocityFront</th>\n",
       "      <th>trackingDeviationFront</th>\n",
       "      <th>velocityFront</th>\n",
       "    </tr>\n",
       "  </thead>\n",
       "  <tbody>\n",
       "    <tr>\n",
       "      <th>0</th>\n",
       "      <td>1</td>\n",
       "      <td>-37.5</td>\n",
       "      <td>43</td>\n",
       "      <td>6.999564</td>\n",
       "      <td>5.000000</td>\n",
       "      <td>8.0</td>\n",
       "      <td>10.000478</td>\n",
       "      <td>4.979237</td>\n",
       "      <td>0.0</td>\n",
       "      <td>42</td>\n",
       "      <td>401.000987</td>\n",
       "      <td>399.000000</td>\n",
       "      <td>8.0</td>\n",
       "      <td>4.999003</td>\n",
       "      <td>7.979237</td>\n",
       "    </tr>\n",
       "    <tr>\n",
       "      <th>1</th>\n",
       "      <td>2</td>\n",
       "      <td>-11.5</td>\n",
       "      <td>47</td>\n",
       "      <td>580.499086</td>\n",
       "      <td>581.499997</td>\n",
       "      <td>6.0</td>\n",
       "      <td>9.000914</td>\n",
       "      <td>6.000000</td>\n",
       "      <td>25.0</td>\n",
       "      <td>44</td>\n",
       "      <td>973.498993</td>\n",
       "      <td>972.499997</td>\n",
       "      <td>6.0</td>\n",
       "      <td>7.000997</td>\n",
       "      <td>8.000000</td>\n",
       "    </tr>\n",
       "    <tr>\n",
       "      <th>2</th>\n",
       "      <td>3</td>\n",
       "      <td>68.0</td>\n",
       "      <td>44</td>\n",
       "      <td>576.500041</td>\n",
       "      <td>579.499998</td>\n",
       "      <td>10.0</td>\n",
       "      <td>9.999917</td>\n",
       "      <td>6.031144</td>\n",
       "      <td>142.0</td>\n",
       "      <td>49</td>\n",
       "      <td>971.499450</td>\n",
       "      <td>970.499998</td>\n",
       "      <td>7.0</td>\n",
       "      <td>8.000498</td>\n",
       "      <td>9.000000</td>\n",
       "    </tr>\n",
       "    <tr>\n",
       "      <th>3</th>\n",
       "      <td>4</td>\n",
       "      <td>136.0</td>\n",
       "      <td>44</td>\n",
       "      <td>579.499709</td>\n",
       "      <td>580.499998</td>\n",
       "      <td>5.0</td>\n",
       "      <td>8.000291</td>\n",
       "      <td>6.979237</td>\n",
       "      <td>137.0</td>\n",
       "      <td>48</td>\n",
       "      <td>970.499616</td>\n",
       "      <td>969.499998</td>\n",
       "      <td>7.0</td>\n",
       "      <td>6.000374</td>\n",
       "      <td>9.000000</td>\n",
       "    </tr>\n",
       "    <tr>\n",
       "      <th>4</th>\n",
       "      <td>5</td>\n",
       "      <td>66.0</td>\n",
       "      <td>47</td>\n",
       "      <td>579.499709</td>\n",
       "      <td>580.499998</td>\n",
       "      <td>5.0</td>\n",
       "      <td>5.000291</td>\n",
       "      <td>7.000000</td>\n",
       "      <td>123.0</td>\n",
       "      <td>44</td>\n",
       "      <td>971.499450</td>\n",
       "      <td>971.499998</td>\n",
       "      <td>5.0</td>\n",
       "      <td>9.000540</td>\n",
       "      <td>8.000000</td>\n",
       "    </tr>\n",
       "    <tr>\n",
       "      <th>...</th>\n",
       "      <td>...</td>\n",
       "      <td>...</td>\n",
       "      <td>...</td>\n",
       "      <td>...</td>\n",
       "      <td>...</td>\n",
       "      <td>...</td>\n",
       "      <td>...</td>\n",
       "      <td>...</td>\n",
       "      <td>...</td>\n",
       "      <td>...</td>\n",
       "      <td>...</td>\n",
       "      <td>...</td>\n",
       "      <td>...</td>\n",
       "      <td>...</td>\n",
       "      <td>...</td>\n",
       "    </tr>\n",
       "    <tr>\n",
       "      <th>2500</th>\n",
       "      <td>2501</td>\n",
       "      <td>240.0</td>\n",
       "      <td>44</td>\n",
       "      <td>579.500436</td>\n",
       "      <td>578.499997</td>\n",
       "      <td>8.0</td>\n",
       "      <td>4.986234</td>\n",
       "      <td>8.020763</td>\n",
       "      <td>354.0</td>\n",
       "      <td>46</td>\n",
       "      <td>970.511949</td>\n",
       "      <td>969.499997</td>\n",
       "      <td>5.0</td>\n",
       "      <td>7.986712</td>\n",
       "      <td>8.041526</td>\n",
       "    </tr>\n",
       "    <tr>\n",
       "      <th>2501</th>\n",
       "      <td>2502</td>\n",
       "      <td>-14.0</td>\n",
       "      <td>41</td>\n",
       "      <td>4.999626</td>\n",
       "      <td>5.000000</td>\n",
       "      <td>9.0</td>\n",
       "      <td>9.000374</td>\n",
       "      <td>6.000000</td>\n",
       "      <td>41.0</td>\n",
       "      <td>45</td>\n",
       "      <td>397.998578</td>\n",
       "      <td>401.000000</td>\n",
       "      <td>7.0</td>\n",
       "      <td>7.001412</td>\n",
       "      <td>5.000000</td>\n",
       "    </tr>\n",
       "    <tr>\n",
       "      <th>2502</th>\n",
       "      <td>2503</td>\n",
       "      <td>327.0</td>\n",
       "      <td>46</td>\n",
       "      <td>577.500540</td>\n",
       "      <td>581.499998</td>\n",
       "      <td>10.0</td>\n",
       "      <td>6.988954</td>\n",
       "      <td>8.228391</td>\n",
       "      <td>328.5</td>\n",
       "      <td>42</td>\n",
       "      <td>969.141374</td>\n",
       "      <td>968.338455</td>\n",
       "      <td>7.0</td>\n",
       "      <td>8.983224</td>\n",
       "      <td>12.259768</td>\n",
       "    </tr>\n",
       "    <tr>\n",
       "      <th>2503</th>\n",
       "      <td>2504</td>\n",
       "      <td>-52.0</td>\n",
       "      <td>43</td>\n",
       "      <td>578.502201</td>\n",
       "      <td>579.499997</td>\n",
       "      <td>10.0</td>\n",
       "      <td>4.997799</td>\n",
       "      <td>9.937711</td>\n",
       "      <td>1010.0</td>\n",
       "      <td>42</td>\n",
       "      <td>968.503395</td>\n",
       "      <td>972.499997</td>\n",
       "      <td>9.0</td>\n",
       "      <td>4.996595</td>\n",
       "      <td>6.000000</td>\n",
       "    </tr>\n",
       "    <tr>\n",
       "      <th>2504</th>\n",
       "      <td>2505</td>\n",
       "      <td>68.0</td>\n",
       "      <td>46</td>\n",
       "      <td>8.999543</td>\n",
       "      <td>8.000000</td>\n",
       "      <td>5.0</td>\n",
       "      <td>8.000498</td>\n",
       "      <td>7.979237</td>\n",
       "      <td>109.0</td>\n",
       "      <td>47</td>\n",
       "      <td>401.999533</td>\n",
       "      <td>402.000000</td>\n",
       "      <td>5.0</td>\n",
       "      <td>5.000457</td>\n",
       "      <td>7.000000</td>\n",
       "    </tr>\n",
       "  </tbody>\n",
       "</table>\n",
       "<p>2505 rows × 15 columns</p>\n",
       "</div>"
      ],
      "text/plain": [
       "      timeindex  currentBack  ...  trackingDeviationFront  velocityFront\n",
       "0             1        -37.5  ...                4.999003       7.979237\n",
       "1             2        -11.5  ...                7.000997       8.000000\n",
       "2             3         68.0  ...                8.000498       9.000000\n",
       "3             4        136.0  ...                6.000374       9.000000\n",
       "4             5         66.0  ...                9.000540       8.000000\n",
       "...         ...          ...  ...                     ...            ...\n",
       "2500       2501        240.0  ...                7.986712       8.041526\n",
       "2501       2502        -14.0  ...                7.001412       5.000000\n",
       "2502       2503        327.0  ...                8.983224      12.259768\n",
       "2503       2504        -52.0  ...                4.996595       6.000000\n",
       "2504       2505         68.0  ...                5.000457       7.000000\n",
       "\n",
       "[2505 rows x 15 columns]"
      ]
     },
     "execution_count": 7,
     "metadata": {
      "tags": []
     },
     "output_type": "execute_result"
    }
   ],
   "source": [
    "data"
   ]
  },
  {
   "cell_type": "code",
   "execution_count": 8,
   "metadata": {
    "id": "P2Wl7YcsB6Tr"
   },
   "outputs": [],
   "source": [
    "data1=pd.read_csv('/content/Train_FVPL.csv')"
   ]
  },
  {
   "cell_type": "code",
   "execution_count": null,
   "metadata": {
    "colab": {
     "base_uri": "https://localhost:8080/"
    },
    "id": "AljuPWDvHdD6",
    "outputId": "167aa104-33e3-4256-ffae-a0576c1526e8"
   },
   "outputs": [
    {
     "data": {
      "text/plain": [
       "timeindex                 0\n",
       "flag                      0\n",
       "currentBack               0\n",
       "motorTempBack             0\n",
       "positionBack              0\n",
       "refPositionBack           0\n",
       "refVelocityBack           0\n",
       "trackingDeviationBack     0\n",
       "velocityBack              0\n",
       "currentFront              0\n",
       "motorTempFront            0\n",
       "positionFront             0\n",
       "refPositionFront          0\n",
       "refVelocityFront          0\n",
       "trackingDeviationFront    0\n",
       "velocityFront             0\n",
       "dtype: int64"
      ]
     },
     "execution_count": 13,
     "metadata": {
      "tags": []
     },
     "output_type": "execute_result"
    }
   ],
   "source": [
    "data1.isnull().sum()"
   ]
  },
  {
   "cell_type": "code",
   "execution_count": null,
   "metadata": {
    "colab": {
     "base_uri": "https://localhost:8080/"
    },
    "id": "VGqvt9q6HcVN",
    "outputId": "167aa104-33e3-4256-ffae-a0576c1526e8"
   },
   "outputs": [
    {
     "data": {
      "text/plain": [
       "timeindex                 0\n",
       "flag                      0\n",
       "currentBack               0\n",
       "motorTempBack             0\n",
       "positionBack              0\n",
       "refPositionBack           0\n",
       "refVelocityBack           0\n",
       "trackingDeviationBack     0\n",
       "velocityBack              0\n",
       "currentFront              0\n",
       "motorTempFront            0\n",
       "positionFront             0\n",
       "refPositionFront          0\n",
       "refVelocityFront          0\n",
       "trackingDeviationFront    0\n",
       "velocityFront             0\n",
       "dtype: int64"
      ]
     },
     "execution_count": 13,
     "metadata": {
      "tags": []
     },
     "output_type": "execute_result"
    }
   ],
   "source": [
    "data1.isnull().sum()"
   ]
  },
  {
   "cell_type": "code",
   "execution_count": 13,
   "metadata": {
    "colab": {
     "base_uri": "https://localhost:8080/"
    },
    "id": "t4JU-8ahHFBR",
    "outputId": "167aa104-33e3-4256-ffae-a0576c1526e8"
   },
   "outputs": [
    {
     "data": {
      "text/plain": [
       "timeindex                 0\n",
       "flag                      0\n",
       "currentBack               0\n",
       "motorTempBack             0\n",
       "positionBack              0\n",
       "refPositionBack           0\n",
       "refVelocityBack           0\n",
       "trackingDeviationBack     0\n",
       "velocityBack              0\n",
       "currentFront              0\n",
       "motorTempFront            0\n",
       "positionFront             0\n",
       "refPositionFront          0\n",
       "refVelocityFront          0\n",
       "trackingDeviationFront    0\n",
       "velocityFront             0\n",
       "dtype: int64"
      ]
     },
     "execution_count": 13,
     "metadata": {
      "tags": []
     },
     "output_type": "execute_result"
    }
   ],
   "source": [
    "data1.isnull().sum()"
   ]
  },
  {
   "cell_type": "code",
   "execution_count": 9,
   "metadata": {
    "colab": {
     "base_uri": "https://localhost:8080/",
     "height": 439
    },
    "id": "ZiRvHrFACNvA",
    "outputId": "0fcda08e-a8a7-45e5-93df-9ac734b47ad3"
   },
   "outputs": [
    {
     "data": {
      "text/html": [
       "<div>\n",
       "<style scoped>\n",
       "    .dataframe tbody tr th:only-of-type {\n",
       "        vertical-align: middle;\n",
       "    }\n",
       "\n",
       "    .dataframe tbody tr th {\n",
       "        vertical-align: top;\n",
       "    }\n",
       "\n",
       "    .dataframe thead th {\n",
       "        text-align: right;\n",
       "    }\n",
       "</style>\n",
       "<table border=\"1\" class=\"dataframe\">\n",
       "  <thead>\n",
       "    <tr style=\"text-align: right;\">\n",
       "      <th></th>\n",
       "      <th>timeindex</th>\n",
       "      <th>flag</th>\n",
       "      <th>currentBack</th>\n",
       "      <th>motorTempBack</th>\n",
       "      <th>positionBack</th>\n",
       "      <th>refPositionBack</th>\n",
       "      <th>refVelocityBack</th>\n",
       "      <th>trackingDeviationBack</th>\n",
       "      <th>velocityBack</th>\n",
       "      <th>currentFront</th>\n",
       "      <th>motorTempFront</th>\n",
       "      <th>positionFront</th>\n",
       "      <th>refPositionFront</th>\n",
       "      <th>refVelocityFront</th>\n",
       "      <th>trackingDeviationFront</th>\n",
       "      <th>velocityFront</th>\n",
       "    </tr>\n",
       "  </thead>\n",
       "  <tbody>\n",
       "    <tr>\n",
       "      <th>0</th>\n",
       "      <td>1</td>\n",
       "      <td>1</td>\n",
       "      <td>30.0</td>\n",
       "      <td>46</td>\n",
       "      <td>576.499377</td>\n",
       "      <td>581.499997</td>\n",
       "      <td>7.000000</td>\n",
       "      <td>7.000623</td>\n",
       "      <td>10.000000</td>\n",
       "      <td>16.0</td>\n",
       "      <td>46</td>\n",
       "      <td>970.499907</td>\n",
       "      <td>971.499997</td>\n",
       "      <td>10.000000</td>\n",
       "      <td>8.000125</td>\n",
       "      <td>5.000000</td>\n",
       "    </tr>\n",
       "    <tr>\n",
       "      <th>1</th>\n",
       "      <td>2</td>\n",
       "      <td>1</td>\n",
       "      <td>101.0</td>\n",
       "      <td>42</td>\n",
       "      <td>576.499211</td>\n",
       "      <td>576.499999</td>\n",
       "      <td>9.000000</td>\n",
       "      <td>8.000747</td>\n",
       "      <td>7.000000</td>\n",
       "      <td>66.0</td>\n",
       "      <td>42</td>\n",
       "      <td>969.499450</td>\n",
       "      <td>969.499999</td>\n",
       "      <td>5.000000</td>\n",
       "      <td>10.000540</td>\n",
       "      <td>10.000000</td>\n",
       "    </tr>\n",
       "    <tr>\n",
       "      <th>2</th>\n",
       "      <td>3</td>\n",
       "      <td>1</td>\n",
       "      <td>815.0</td>\n",
       "      <td>41</td>\n",
       "      <td>355.576792</td>\n",
       "      <td>363.368778</td>\n",
       "      <td>584.045836</td>\n",
       "      <td>4.994664</td>\n",
       "      <td>587.020659</td>\n",
       "      <td>726.0</td>\n",
       "      <td>38</td>\n",
       "      <td>741.523412</td>\n",
       "      <td>742.361361</td>\n",
       "      <td>590.807348</td>\n",
       "      <td>4.987812</td>\n",
       "      <td>593.415386</td>\n",
       "    </tr>\n",
       "    <tr>\n",
       "      <th>3</th>\n",
       "      <td>4</td>\n",
       "      <td>1</td>\n",
       "      <td>219.0</td>\n",
       "      <td>40</td>\n",
       "      <td>577.499585</td>\n",
       "      <td>578.499998</td>\n",
       "      <td>7.000000</td>\n",
       "      <td>6.000332</td>\n",
       "      <td>8.041526</td>\n",
       "      <td>207.0</td>\n",
       "      <td>39</td>\n",
       "      <td>972.499575</td>\n",
       "      <td>971.499998</td>\n",
       "      <td>5.000000</td>\n",
       "      <td>7.000457</td>\n",
       "      <td>6.031144</td>\n",
       "    </tr>\n",
       "    <tr>\n",
       "      <th>4</th>\n",
       "      <td>5</td>\n",
       "      <td>1</td>\n",
       "      <td>76.0</td>\n",
       "      <td>40</td>\n",
       "      <td>4.998796</td>\n",
       "      <td>9.000000</td>\n",
       "      <td>6.000000</td>\n",
       "      <td>7.001246</td>\n",
       "      <td>6.000000</td>\n",
       "      <td>-13.0</td>\n",
       "      <td>43</td>\n",
       "      <td>398.999076</td>\n",
       "      <td>398.000000</td>\n",
       "      <td>6.000000</td>\n",
       "      <td>5.000914</td>\n",
       "      <td>8.000000</td>\n",
       "    </tr>\n",
       "    <tr>\n",
       "      <th>...</th>\n",
       "      <td>...</td>\n",
       "      <td>...</td>\n",
       "      <td>...</td>\n",
       "      <td>...</td>\n",
       "      <td>...</td>\n",
       "      <td>...</td>\n",
       "      <td>...</td>\n",
       "      <td>...</td>\n",
       "      <td>...</td>\n",
       "      <td>...</td>\n",
       "      <td>...</td>\n",
       "      <td>...</td>\n",
       "      <td>...</td>\n",
       "      <td>...</td>\n",
       "      <td>...</td>\n",
       "      <td>...</td>\n",
       "    </tr>\n",
       "    <tr>\n",
       "      <th>11222</th>\n",
       "      <td>11223</td>\n",
       "      <td>0</td>\n",
       "      <td>-34.0</td>\n",
       "      <td>33</td>\n",
       "      <td>576.499959</td>\n",
       "      <td>578.499997</td>\n",
       "      <td>9.000000</td>\n",
       "      <td>8.000000</td>\n",
       "      <td>5.979237</td>\n",
       "      <td>139.0</td>\n",
       "      <td>33</td>\n",
       "      <td>969.499450</td>\n",
       "      <td>970.499997</td>\n",
       "      <td>8.000000</td>\n",
       "      <td>5.000581</td>\n",
       "      <td>9.000000</td>\n",
       "    </tr>\n",
       "    <tr>\n",
       "      <th>11223</th>\n",
       "      <td>11224</td>\n",
       "      <td>0</td>\n",
       "      <td>611.0</td>\n",
       "      <td>39</td>\n",
       "      <td>385.941754</td>\n",
       "      <td>389.770293</td>\n",
       "      <td>588.043809</td>\n",
       "      <td>5.998235</td>\n",
       "      <td>587.778503</td>\n",
       "      <td>718.0</td>\n",
       "      <td>37</td>\n",
       "      <td>761.058641</td>\n",
       "      <td>762.869655</td>\n",
       "      <td>595.118577</td>\n",
       "      <td>5.991404</td>\n",
       "      <td>594.754822</td>\n",
       "    </tr>\n",
       "    <tr>\n",
       "      <th>11224</th>\n",
       "      <td>11225</td>\n",
       "      <td>0</td>\n",
       "      <td>-28.0</td>\n",
       "      <td>38</td>\n",
       "      <td>577.500291</td>\n",
       "      <td>581.499997</td>\n",
       "      <td>10.000000</td>\n",
       "      <td>5.999709</td>\n",
       "      <td>8.979237</td>\n",
       "      <td>-18.0</td>\n",
       "      <td>38</td>\n",
       "      <td>971.500073</td>\n",
       "      <td>968.499997</td>\n",
       "      <td>5.000000</td>\n",
       "      <td>10.000000</td>\n",
       "      <td>7.000000</td>\n",
       "    </tr>\n",
       "    <tr>\n",
       "      <th>11225</th>\n",
       "      <td>11226</td>\n",
       "      <td>0</td>\n",
       "      <td>-21.0</td>\n",
       "      <td>37</td>\n",
       "      <td>577.499959</td>\n",
       "      <td>576.499997</td>\n",
       "      <td>5.000000</td>\n",
       "      <td>10.000000</td>\n",
       "      <td>6.020763</td>\n",
       "      <td>20.0</td>\n",
       "      <td>36</td>\n",
       "      <td>969.499741</td>\n",
       "      <td>969.499997</td>\n",
       "      <td>7.000000</td>\n",
       "      <td>6.000249</td>\n",
       "      <td>5.000000</td>\n",
       "    </tr>\n",
       "    <tr>\n",
       "      <th>11226</th>\n",
       "      <td>11227</td>\n",
       "      <td>1</td>\n",
       "      <td>2.0</td>\n",
       "      <td>46</td>\n",
       "      <td>576.499128</td>\n",
       "      <td>576.499999</td>\n",
       "      <td>6.000000</td>\n",
       "      <td>10.000872</td>\n",
       "      <td>9.000000</td>\n",
       "      <td>6.0</td>\n",
       "      <td>43</td>\n",
       "      <td>969.499533</td>\n",
       "      <td>970.499999</td>\n",
       "      <td>7.000000</td>\n",
       "      <td>7.000498</td>\n",
       "      <td>8.000000</td>\n",
       "    </tr>\n",
       "  </tbody>\n",
       "</table>\n",
       "<p>11227 rows × 16 columns</p>\n",
       "</div>"
      ],
      "text/plain": [
       "       timeindex  flag  ...  trackingDeviationFront  velocityFront\n",
       "0              1     1  ...                8.000125       5.000000\n",
       "1              2     1  ...               10.000540      10.000000\n",
       "2              3     1  ...                4.987812     593.415386\n",
       "3              4     1  ...                7.000457       6.031144\n",
       "4              5     1  ...                5.000914       8.000000\n",
       "...          ...   ...  ...                     ...            ...\n",
       "11222      11223     0  ...                5.000581       9.000000\n",
       "11223      11224     0  ...                5.991404     594.754822\n",
       "11224      11225     0  ...               10.000000       7.000000\n",
       "11225      11226     0  ...                6.000249       5.000000\n",
       "11226      11227     1  ...                7.000498       8.000000\n",
       "\n",
       "[11227 rows x 16 columns]"
      ]
     },
     "execution_count": 9,
     "metadata": {
      "tags": []
     },
     "output_type": "execute_result"
    }
   ],
   "source": [
    "data1"
   ]
  },
  {
   "cell_type": "code",
   "execution_count": 10,
   "metadata": {
    "id": "PqmS-XevCPof"
   },
   "outputs": [],
   "source": [
    "from sklearn.model_selection import KFold"
   ]
  },
  {
   "cell_type": "code",
   "execution_count": 17,
   "metadata": {
    "id": "14lePV5gHXWo"
   },
   "outputs": [],
   "source": [
    "y=data1['flag']\n",
    "x=data1.drop('flag',axis=1)"
   ]
  },
  {
   "cell_type": "code",
   "execution_count": 18,
   "metadata": {
    "id": "zsc3kjqaGd92"
   },
   "outputs": [],
   "source": [
    "from sklearn.tree import DecisionTreeClassifier"
   ]
  },
  {
   "cell_type": "code",
   "execution_count": 19,
   "metadata": {
    "colab": {
     "base_uri": "https://localhost:8080/"
    },
    "id": "OJtXzY0LJBMp",
    "outputId": "7f61775f-371b-4266-ed0d-a5659210b262"
   },
   "outputs": [
    {
     "data": {
      "text/plain": [
       "((11227, 15), (11227,))"
      ]
     },
     "execution_count": 19,
     "metadata": {
      "tags": []
     },
     "output_type": "execute_result"
    }
   ],
   "source": [
    "x.shape, y.shape"
   ]
  },
  {
   "cell_type": "code",
   "execution_count": 20,
   "metadata": {
    "id": "m3DOGGl6JHkc"
   },
   "outputs": [],
   "source": [
    "from sklearn.model_selection import train_test_split\n",
    "x_train,x_test,y_train,y_test = train_test_split(x,y,\n",
    "                                                 test_size=0.30,\n",
    "                                                 random_state=34)"
   ]
  },
  {
   "cell_type": "code",
   "execution_count": 21,
   "metadata": {
    "colab": {
     "base_uri": "https://localhost:8080/"
    },
    "id": "F20s6WbAJK-R",
    "outputId": "ae3ef679-43ae-494f-8fab-77aa05741353"
   },
   "outputs": [
    {
     "data": {
      "text/plain": [
       "((7858, 15), (3369, 15), (7858,), (3369,))"
      ]
     },
     "execution_count": 21,
     "metadata": {
      "tags": []
     },
     "output_type": "execute_result"
    }
   ],
   "source": [
    "x_train.shape,x_test.shape,y_train.shape,y_test.shape"
   ]
  },
  {
   "cell_type": "code",
   "execution_count": 22,
   "metadata": {
    "id": "bf9uDa7mJOMX"
   },
   "outputs": [],
   "source": [
    "model = DecisionTreeClassifier()"
   ]
  },
  {
   "cell_type": "code",
   "execution_count": 23,
   "metadata": {
    "colab": {
     "base_uri": "https://localhost:8080/"
    },
    "id": "7ozouCNgJRGJ",
    "outputId": "c20ef513-5817-40a7-e6ac-44641784ef0c"
   },
   "outputs": [
    {
     "data": {
      "text/plain": [
       "DecisionTreeClassifier(ccp_alpha=0.0, class_weight=None, criterion='gini',\n",
       "                       max_depth=None, max_features=None, max_leaf_nodes=None,\n",
       "                       min_impurity_decrease=0.0, min_impurity_split=None,\n",
       "                       min_samples_leaf=1, min_samples_split=2,\n",
       "                       min_weight_fraction_leaf=0.0, presort='deprecated',\n",
       "                       random_state=None, splitter='best')"
      ]
     },
     "execution_count": 23,
     "metadata": {
      "tags": []
     },
     "output_type": "execute_result"
    }
   ],
   "source": [
    "model"
   ]
  },
  {
   "cell_type": "code",
   "execution_count": 25,
   "metadata": {
    "colab": {
     "base_uri": "https://localhost:8080/"
    },
    "id": "1oOKIvafJTme",
    "outputId": "9d6bc11a-8a5f-4a56-d703-1e99fa1e4e2f"
   },
   "outputs": [
    {
     "data": {
      "text/plain": [
       "DecisionTreeClassifier(ccp_alpha=0.0, class_weight=None, criterion='gini',\n",
       "                       max_depth=None, max_features=None, max_leaf_nodes=None,\n",
       "                       min_impurity_decrease=0.0, min_impurity_split=None,\n",
       "                       min_samples_leaf=1, min_samples_split=2,\n",
       "                       min_weight_fraction_leaf=0.0, presort='deprecated',\n",
       "                       random_state=None, splitter='best')"
      ]
     },
     "execution_count": 25,
     "metadata": {
      "tags": []
     },
     "output_type": "execute_result"
    }
   ],
   "source": [
    "model.fit(x_train,y_train)"
   ]
  },
  {
   "cell_type": "code",
   "execution_count": 26,
   "metadata": {
    "colab": {
     "base_uri": "https://localhost:8080/"
    },
    "id": "SoKV4SrPJZLN",
    "outputId": "5fd378d5-da8a-4220-8e93-63379ed2b025"
   },
   "outputs": [
    {
     "data": {
      "text/plain": [
       "1.0"
      ]
     },
     "execution_count": 26,
     "metadata": {
      "tags": []
     },
     "output_type": "execute_result"
    }
   ],
   "source": [
    "np.round(model.score(x_train,y_train),2)"
   ]
  },
  {
   "cell_type": "code",
   "execution_count": 27,
   "metadata": {
    "colab": {
     "base_uri": "https://localhost:8080/"
    },
    "id": "tqwt2bqfJoI9",
    "outputId": "535c4486-5005-4e2c-8035-d45a028b0fd9"
   },
   "outputs": [
    {
     "data": {
      "text/plain": [
       "0.86"
      ]
     },
     "execution_count": 27,
     "metadata": {
      "tags": []
     },
     "output_type": "execute_result"
    }
   ],
   "source": [
    "np.round(model.score(x_test,y_test),2)"
   ]
  },
  {
   "cell_type": "code",
   "execution_count": 28,
   "metadata": {
    "id": "7XiudnO8JsGA"
   },
   "outputs": [],
   "source": [
    "from sklearn.model_selection import cross_val_score"
   ]
  },
  {
   "cell_type": "code",
   "execution_count": 29,
   "metadata": {
    "id": "_8hI6Ty6J2X6"
   },
   "outputs": [],
   "source": [
    "model3 = DecisionTreeClassifier(max_depth=5)"
   ]
  },
  {
   "cell_type": "code",
   "execution_count": 30,
   "metadata": {
    "colab": {
     "base_uri": "https://localhost:8080/"
    },
    "id": "bbaS9c3fJ5X9",
    "outputId": "b760f53a-261a-4cb3-fb11-36c06b476d14"
   },
   "outputs": [
    {
     "name": "stdout",
     "output_type": "stream",
     "text": [
      "Accuracy per fold: \n",
      "[0.86641221 0.8524173  0.86768448 0.86259542 0.85496183 0.83969466\n",
      " 0.82824427 0.86895674 0.88025478 0.85605096]\n",
      "Average accuracy:  0.8577272653603669\n",
      "Deviation:  0.014369893363238549\n"
     ]
    }
   ],
   "source": [
    "scores = cross_val_score(estimator= model,     # Model to test\n",
    "                X= x_train,  \n",
    "                y = y_train,      # Target variable\n",
    "                scoring = \"accuracy\",               # Scoring metric    \n",
    "                cv=10)                              # Cross validation folds\n",
    "\n",
    "print(\"Accuracy per fold: \")\n",
    "print(scores)\n",
    "print(\"Average accuracy: \", scores.mean())\n",
    "print('Deviation: ', scores.std())"
   ]
  },
  {
   "cell_type": "code",
   "execution_count": 31,
   "metadata": {
    "id": "G_F1O9FpJ-mb"
   },
   "outputs": [],
   "source": [
    "from sklearn.linear_model import LogisticRegression"
   ]
  },
  {
   "cell_type": "code",
   "execution_count": 32,
   "metadata": {
    "id": "BPTV3SbGKlD5"
   },
   "outputs": [],
   "source": [
    "model1=LogisticRegression()"
   ]
  },
  {
   "cell_type": "code",
   "execution_count": 33,
   "metadata": {
    "colab": {
     "base_uri": "https://localhost:8080/"
    },
    "id": "iHPmQf9nKoDq",
    "outputId": "8e3bed02-6d58-4238-e245-e05b41d0d330"
   },
   "outputs": [
    {
     "name": "stderr",
     "output_type": "stream",
     "text": [
      "/usr/local/lib/python3.7/dist-packages/sklearn/linear_model/_logistic.py:940: ConvergenceWarning: lbfgs failed to converge (status=1):\n",
      "STOP: TOTAL NO. of ITERATIONS REACHED LIMIT.\n",
      "\n",
      "Increase the number of iterations (max_iter) or scale the data as shown in:\n",
      "    https://scikit-learn.org/stable/modules/preprocessing.html\n",
      "Please also refer to the documentation for alternative solver options:\n",
      "    https://scikit-learn.org/stable/modules/linear_model.html#logistic-regression\n",
      "  extra_warning_msg=_LOGISTIC_SOLVER_CONVERGENCE_MSG)\n"
     ]
    },
    {
     "data": {
      "text/plain": [
       "LogisticRegression(C=1.0, class_weight=None, dual=False, fit_intercept=True,\n",
       "                   intercept_scaling=1, l1_ratio=None, max_iter=100,\n",
       "                   multi_class='auto', n_jobs=None, penalty='l2',\n",
       "                   random_state=None, solver='lbfgs', tol=0.0001, verbose=0,\n",
       "                   warm_start=False)"
      ]
     },
     "execution_count": 33,
     "metadata": {
      "tags": []
     },
     "output_type": "execute_result"
    }
   ],
   "source": [
    "model1.fit(x_train,y_train)"
   ]
  },
  {
   "cell_type": "code",
   "execution_count": 34,
   "metadata": {
    "id": "rUtP15v9Krca"
   },
   "outputs": [],
   "source": [
    "y_pred=model1.predict(x_test)"
   ]
  },
  {
   "cell_type": "code",
   "execution_count": 35,
   "metadata": {
    "colab": {
     "base_uri": "https://localhost:8080/"
    },
    "id": "CeQsb4c7KvyB",
    "outputId": "f8617efa-70c7-4dc1-bbab-46c57db1aef3"
   },
   "outputs": [
    {
     "data": {
      "text/plain": [
       "0.7598693974473137"
      ]
     },
     "execution_count": 35,
     "metadata": {
      "tags": []
     },
     "output_type": "execute_result"
    }
   ],
   "source": [
    "model1.score(x_test,y_test)"
   ]
  },
  {
   "cell_type": "code",
   "execution_count": 36,
   "metadata": {
    "colab": {
     "base_uri": "https://localhost:8080/"
    },
    "id": "O66Ne7RvKy2O",
    "outputId": "fb9b8ea7-e08b-4853-cbbf-c90533ec264f"
   },
   "outputs": [
    {
     "data": {
      "text/plain": [
       "0.7604988546703996"
      ]
     },
     "execution_count": 36,
     "metadata": {
      "tags": []
     },
     "output_type": "execute_result"
    }
   ],
   "source": [
    "model1.score(x_train,y_train)"
   ]
  },
  {
   "cell_type": "code",
   "execution_count": 37,
   "metadata": {
    "id": "De422ra5K5dU"
   },
   "outputs": [],
   "source": [
    "from sklearn.model_selection import GridSearchCV\n"
   ]
  },
  {
   "cell_type": "code",
   "execution_count": 38,
   "metadata": {
    "id": "zpBFuaGvOUfq"
   },
   "outputs": [],
   "source": [
    "clf=DecisionTreeClassifier()"
   ]
  },
  {
   "cell_type": "code",
   "execution_count": 39,
   "metadata": {
    "id": "x5xbihQDOacm"
   },
   "outputs": [],
   "source": [
    "param_grid = {\"criterion\": [\"gini\",\"entropy\"],\n",
    "             \"max_depth\": [2,3,5,7,10],\n",
    "              \n",
    "              \n",
    "              \"min_samples_split\":[5,10,15,20]\n",
    "                         \n",
    "             }"
   ]
  },
  {
   "cell_type": "code",
   "execution_count": 40,
   "metadata": {
    "id": "m4HBw06dOfQv"
   },
   "outputs": [],
   "source": [
    "from time import time\n",
    "from operator import itemgetter"
   ]
  },
  {
   "cell_type": "code",
   "execution_count": 41,
   "metadata": {
    "id": "Cec21JktOhoj"
   },
   "outputs": [],
   "source": [
    "def GridSearch_BestParam(x, y, clf, param_grid,cv=10):\n",
    "    grid_search = GridSearchCV(clf,\n",
    "                              param_grid=param_grid,\n",
    "                              cv=cv)\n",
    "    start= time()\n",
    "    grid_search.fit(x,y)\n",
    "    top_params=grid_search.best_params_\n",
    "    return top_params"
   ]
  },
  {
   "cell_type": "code",
   "execution_count": 42,
   "metadata": {
    "id": "gJjd4zY6Oj8B"
   },
   "outputs": [],
   "source": [
    "top_param=GridSearch_BestParam(x_train,y_train,clf,param_grid,cv=10)"
   ]
  },
  {
   "cell_type": "code",
   "execution_count": 43,
   "metadata": {
    "colab": {
     "base_uri": "https://localhost:8080/"
    },
    "id": "OFC7I7bEOoxu",
    "outputId": "770ed34a-ff5a-42e3-bceb-e72ac58db691"
   },
   "outputs": [
    {
     "name": "stdout",
     "output_type": "stream",
     "text": [
      "{'criterion': 'entropy', 'max_depth': 10, 'min_samples_split': 15}\n"
     ]
    }
   ],
   "source": [
    "print(top_param)"
   ]
  },
  {
   "cell_type": "code",
   "execution_count": 44,
   "metadata": {
    "id": "Kf4vBEcKOynM"
   },
   "outputs": [],
   "source": [
    "best_dt_model=DecisionTreeClassifier(criterion= 'entropy', max_depth= 10,  min_samples_split= 15)"
   ]
  },
  {
   "cell_type": "code",
   "execution_count": 45,
   "metadata": {
    "colab": {
     "base_uri": "https://localhost:8080/"
    },
    "id": "s4Eo0MO_O35t",
    "outputId": "f2aad17c-28e7-4546-ecc6-2ee9e46255c0"
   },
   "outputs": [
    {
     "data": {
      "text/plain": [
       "DecisionTreeClassifier(ccp_alpha=0.0, class_weight=None, criterion='entropy',\n",
       "                       max_depth=10, max_features=None, max_leaf_nodes=None,\n",
       "                       min_impurity_decrease=0.0, min_impurity_split=None,\n",
       "                       min_samples_leaf=1, min_samples_split=15,\n",
       "                       min_weight_fraction_leaf=0.0, presort='deprecated',\n",
       "                       random_state=None, splitter='best')"
      ]
     },
     "execution_count": 45,
     "metadata": {
      "tags": []
     },
     "output_type": "execute_result"
    }
   ],
   "source": [
    "best_dt_model.fit(x_train,y_train)"
   ]
  },
  {
   "cell_type": "code",
   "execution_count": 46,
   "metadata": {
    "colab": {
     "base_uri": "https://localhost:8080/"
    },
    "id": "tc0VbTvpO69G",
    "outputId": "d4219419-7699-42fd-e660-e86e1592217c"
   },
   "outputs": [
    {
     "data": {
      "text/plain": [
       "0.9001018070755917"
      ]
     },
     "execution_count": 46,
     "metadata": {
      "tags": []
     },
     "output_type": "execute_result"
    }
   ],
   "source": [
    "best_dt_model.score(x_train,y_train)"
   ]
  },
  {
   "cell_type": "code",
   "execution_count": 47,
   "metadata": {
    "colab": {
     "base_uri": "https://localhost:8080/"
    },
    "id": "hF1Q2-GXO9d6",
    "outputId": "79d7a607-8b50-4fa9-a598-0572228df89a"
   },
   "outputs": [
    {
     "data": {
      "text/plain": [
       "0.8610863757791629"
      ]
     },
     "execution_count": 47,
     "metadata": {
      "tags": []
     },
     "output_type": "execute_result"
    }
   ],
   "source": [
    "best_dt_model.score(x_test,y_test)"
   ]
  },
  {
   "cell_type": "code",
   "execution_count": 48,
   "metadata": {
    "id": "WQXA0ptHPAu_"
   },
   "outputs": [],
   "source": [
    "from sklearn.ensemble import RandomForestClassifier\n",
    "from sklearn.metrics import confusion_matrix\n",
    "from sklearn.metrics import classification_report"
   ]
  },
  {
   "cell_type": "code",
   "execution_count": 49,
   "metadata": {
    "id": "DhCYpy73PHOg"
   },
   "outputs": [],
   "source": [
    "clf2=RandomForestClassifier()"
   ]
  },
  {
   "cell_type": "code",
   "execution_count": 50,
   "metadata": {
    "id": "PoyDW2YZPKKf"
   },
   "outputs": [],
   "source": [
    "rfs=RandomForestClassifier(random_state=123)"
   ]
  },
  {
   "cell_type": "code",
   "execution_count": 51,
   "metadata": {
    "id": "iRwYzfrfPMwb"
   },
   "outputs": [],
   "source": [
    "param_grid = { \n",
    "    \n",
    "                  \"min_samples_split\":[5,10,15,20]\n",
    ",\n",
    "    'max_depth' : [4,5,6,7,8],\n",
    "    'criterion' :['gini', 'entropy']\n",
    "}"
   ]
  },
  {
   "cell_type": "code",
   "execution_count": 52,
   "metadata": {
    "id": "Mf-5KEYQPPpx"
   },
   "outputs": [],
   "source": [
    "def GridSearch_BestParam(x, y, clf2, param_grid,cv=10):\n",
    "    grid_search = GridSearchCV(clf,\n",
    "                              param_grid=param_grid,\n",
    "                              cv=cv)\n",
    "    start= time()\n",
    "    grid_search.fit(x,y)\n",
    "    top_params=grid_search.best_params_\n",
    "    return top_params"
   ]
  },
  {
   "cell_type": "code",
   "execution_count": 53,
   "metadata": {
    "id": "h8MEtZ3BPSbv"
   },
   "outputs": [],
   "source": [
    "CV_rfc = GridSearchCV(estimator=rfs, param_grid=param_grid, cv= 10)"
   ]
  },
  {
   "cell_type": "code",
   "execution_count": 54,
   "metadata": {
    "id": "eZW90UtDPWfq"
   },
   "outputs": [],
   "source": [
    "top_param=GridSearch_BestParam(x_train,y_train,clf2,param_grid,cv=10)"
   ]
  },
  {
   "cell_type": "code",
   "execution_count": 55,
   "metadata": {
    "colab": {
     "base_uri": "https://localhost:8080/"
    },
    "id": "d4JK3HdnPhm4",
    "outputId": "4d1fd634-b60d-4576-ebe3-4391c4c06bd2"
   },
   "outputs": [
    {
     "name": "stdout",
     "output_type": "stream",
     "text": [
      "{'criterion': 'entropy', 'max_depth': 8, 'min_samples_split': 10}\n"
     ]
    }
   ],
   "source": [
    "print(top_param)"
   ]
  },
  {
   "cell_type": "code",
   "execution_count": 56,
   "metadata": {
    "id": "1PLA_ghGP2Uo"
   },
   "outputs": [],
   "source": [
    "model = RandomForestClassifier(criterion= 'entropy',\n",
    " max_depth= 8,\n",
    " min_samples_split=10,\n",
    " )"
   ]
  },
  {
   "cell_type": "code",
   "execution_count": 57,
   "metadata": {
    "colab": {
     "base_uri": "https://localhost:8080/"
    },
    "id": "vv8ct_fZP5hA",
    "outputId": "d0bafda8-0849-42e7-e075-a960fccb107d"
   },
   "outputs": [
    {
     "data": {
      "text/plain": [
       "RandomForestClassifier(bootstrap=True, ccp_alpha=0.0, class_weight=None,\n",
       "                       criterion='entropy', max_depth=8, max_features='auto',\n",
       "                       max_leaf_nodes=None, max_samples=None,\n",
       "                       min_impurity_decrease=0.0, min_impurity_split=None,\n",
       "                       min_samples_leaf=1, min_samples_split=10,\n",
       "                       min_weight_fraction_leaf=0.0, n_estimators=100,\n",
       "                       n_jobs=None, oob_score=False, random_state=None,\n",
       "                       verbose=0, warm_start=False)"
      ]
     },
     "execution_count": 57,
     "metadata": {
      "tags": []
     },
     "output_type": "execute_result"
    }
   ],
   "source": [
    "model.fit(x_train,y_train)"
   ]
  },
  {
   "cell_type": "code",
   "execution_count": 58,
   "metadata": {
    "colab": {
     "base_uri": "https://localhost:8080/"
    },
    "id": "VVLtIG1VP8Kl",
    "outputId": "e5dfd676-d221-4138-d7e3-84f53bf3fec5"
   },
   "outputs": [
    {
     "data": {
      "text/plain": [
       "0.8605243064392976"
      ]
     },
     "execution_count": 58,
     "metadata": {
      "tags": []
     },
     "output_type": "execute_result"
    }
   ],
   "source": [
    "model.score(x_train,y_train)"
   ]
  },
  {
   "cell_type": "code",
   "execution_count": 59,
   "metadata": {
    "colab": {
     "base_uri": "https://localhost:8080/"
    },
    "id": "1TVKxI9YP_me",
    "outputId": "b72b18f8-c889-4474-eebf-89be9e1e9aed"
   },
   "outputs": [
    {
     "data": {
      "text/plain": [
       "0.8379341050756901"
      ]
     },
     "execution_count": 59,
     "metadata": {
      "tags": []
     },
     "output_type": "execute_result"
    }
   ],
   "source": [
    "model.score(x_test,y_test)"
   ]
  },
  {
   "cell_type": "code",
   "execution_count": 61,
   "metadata": {
    "id": "Vc3tJXqxQCTF"
   },
   "outputs": [],
   "source": [
    "model = RandomForestClassifier(bootstrap=True, ccp_alpha=0.0, class_weight=None,\n",
    "                       criterion='entropy', max_depth=8, max_features='auto',\n",
    "                       max_leaf_nodes=None, max_samples=None,\n",
    "                       min_impurity_decrease=0.0, min_impurity_split=None,\n",
    "                       min_samples_leaf=1, min_samples_split=10,\n",
    "                       min_weight_fraction_leaf=0.0, n_estimators=100,\n",
    "                       n_jobs=None, oob_score=False, random_state=None,\n",
    "                       verbose=0, warm_start=False)"
   ]
  },
  {
   "cell_type": "code",
   "execution_count": 62,
   "metadata": {
    "colab": {
     "base_uri": "https://localhost:8080/"
    },
    "id": "dnGlS6DGRor8",
    "outputId": "25dd65cf-c63a-4183-96e5-4aa807c69bfa"
   },
   "outputs": [
    {
     "data": {
      "text/plain": [
       "RandomForestClassifier(bootstrap=True, ccp_alpha=0.0, class_weight=None,\n",
       "                       criterion='entropy', max_depth=8, max_features='auto',\n",
       "                       max_leaf_nodes=None, max_samples=None,\n",
       "                       min_impurity_decrease=0.0, min_impurity_split=None,\n",
       "                       min_samples_leaf=1, min_samples_split=10,\n",
       "                       min_weight_fraction_leaf=0.0, n_estimators=100,\n",
       "                       n_jobs=None, oob_score=False, random_state=None,\n",
       "                       verbose=0, warm_start=False)"
      ]
     },
     "execution_count": 62,
     "metadata": {
      "tags": []
     },
     "output_type": "execute_result"
    }
   ],
   "source": [
    "model.fit(x_train,y_train)"
   ]
  },
  {
   "cell_type": "code",
   "execution_count": null,
   "metadata": {
    "id": "xR58BDz0RtFc"
   },
   "outputs": [],
   "source": []
  },
  {
   "cell_type": "code",
   "execution_count": 63,
   "metadata": {
    "colab": {
     "base_uri": "https://localhost:8080/"
    },
    "id": "yjvDBtccRtqK",
    "outputId": "70bc1600-d8e1-407f-acb0-944236675e45"
   },
   "outputs": [
    {
     "data": {
      "text/plain": [
       "0.8513616696360397"
      ]
     },
     "execution_count": 63,
     "metadata": {
      "tags": []
     },
     "output_type": "execute_result"
    }
   ],
   "source": [
    "model.score(x_train,y_train)"
   ]
  },
  {
   "cell_type": "code",
   "execution_count": null,
   "metadata": {
    "id": "-_NTt5NpRuQs"
   },
   "outputs": [],
   "source": []
  },
  {
   "cell_type": "code",
   "execution_count": 64,
   "metadata": {
    "colab": {
     "base_uri": "https://localhost:8080/"
    },
    "id": "kcC8_43ERwp2",
    "outputId": "4ee7b9b3-f726-4e9b-e0a2-057e82f1a745"
   },
   "outputs": [
    {
     "data": {
      "text/plain": [
       "0.8349658652419115"
      ]
     },
     "execution_count": 64,
     "metadata": {
      "tags": []
     },
     "output_type": "execute_result"
    }
   ],
   "source": [
    "model.score(x_test,y_test)"
   ]
  },
  {
   "cell_type": "code",
   "execution_count": null,
   "metadata": {
    "id": "eoLeZ6Y1Rw6O"
   },
   "outputs": [],
   "source": []
  }
 ],
 "metadata": {
  "colab": {
   "name": "Untitled3.ipynb",
   "provenance": []
  },
  "kernelspec": {
   "display_name": "Python 3",
   "language": "python",
   "name": "python3"
  },
  "language_info": {
   "codemirror_mode": {
    "name": "ipython",
    "version": 3
   },
   "file_extension": ".py",
   "mimetype": "text/x-python",
   "name": "python",
   "nbconvert_exporter": "python",
   "pygments_lexer": "ipython3",
   "version": "3.8.5"
  }
 },
 "nbformat": 4,
 "nbformat_minor": 1
}
